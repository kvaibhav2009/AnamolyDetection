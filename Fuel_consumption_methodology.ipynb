{
 "cells": [
  {
   "cell_type": "code",
   "execution_count": 1,
   "metadata": {},
   "outputs": [],
   "source": [
    "import pandas as pd"
   ]
  },
  {
   "cell_type": "code",
   "execution_count": 2,
   "metadata": {},
   "outputs": [],
   "source": [
    "import matplotlib.pyplot as plt"
   ]
  },
  {
   "cell_type": "code",
   "execution_count": 3,
   "metadata": {},
   "outputs": [],
   "source": [
    "import numpy as np\n",
    "import math"
   ]
  },
  {
   "cell_type": "code",
   "execution_count": 4,
   "metadata": {},
   "outputs": [],
   "source": [
    "data=pd.read_excel(\"data_set.xlsx\")"
   ]
  },
  {
   "cell_type": "code",
   "execution_count": 5,
   "metadata": {},
   "outputs": [
    {
     "data": {
      "text/plain": [
       "(72791, 8)"
      ]
     },
     "execution_count": 5,
     "metadata": {},
     "output_type": "execute_result"
    }
   ],
   "source": [
    "data.shape"
   ]
  },
  {
   "cell_type": "code",
   "execution_count": 6,
   "metadata": {},
   "outputs": [
    {
     "data": {
      "text/html": [
       "<div>\n",
       "<style scoped>\n",
       "    .dataframe tbody tr th:only-of-type {\n",
       "        vertical-align: middle;\n",
       "    }\n",
       "\n",
       "    .dataframe tbody tr th {\n",
       "        vertical-align: top;\n",
       "    }\n",
       "\n",
       "    .dataframe thead th {\n",
       "        text-align: right;\n",
       "    }\n",
       "</style>\n",
       "<table border=\"1\" class=\"dataframe\">\n",
       "  <thead>\n",
       "    <tr style=\"text-align: right;\">\n",
       "      <th></th>\n",
       "      <th>Company Id</th>\n",
       "      <th>DateTime</th>\n",
       "      <th>ON/OFF</th>\n",
       "      <th>Level of Fuel</th>\n",
       "      <th>PF</th>\n",
       "      <th>KiloWatt</th>\n",
       "      <th>KWH</th>\n",
       "      <th>ErrorCode</th>\n",
       "    </tr>\n",
       "  </thead>\n",
       "  <tbody>\n",
       "    <tr>\n",
       "      <th>0</th>\n",
       "      <td>25502921</td>\n",
       "      <td>2018-08-16 10:23:36</td>\n",
       "      <td>0</td>\n",
       "      <td>175.000</td>\n",
       "      <td>0.0</td>\n",
       "      <td>0.0</td>\n",
       "      <td>0.0</td>\n",
       "      <td>0</td>\n",
       "    </tr>\n",
       "    <tr>\n",
       "      <th>1</th>\n",
       "      <td>25502921</td>\n",
       "      <td>2018-08-16 10:33:55</td>\n",
       "      <td>0</td>\n",
       "      <td>155.557</td>\n",
       "      <td>0.0</td>\n",
       "      <td>0.0</td>\n",
       "      <td>0.0</td>\n",
       "      <td>0</td>\n",
       "    </tr>\n",
       "    <tr>\n",
       "      <th>2</th>\n",
       "      <td>25502921</td>\n",
       "      <td>2018-08-16 10:43:55</td>\n",
       "      <td>0</td>\n",
       "      <td>153.615</td>\n",
       "      <td>0.0</td>\n",
       "      <td>0.0</td>\n",
       "      <td>0.0</td>\n",
       "      <td>0</td>\n",
       "    </tr>\n",
       "    <tr>\n",
       "      <th>3</th>\n",
       "      <td>25502921</td>\n",
       "      <td>2018-08-16 10:53:55</td>\n",
       "      <td>0</td>\n",
       "      <td>152.512</td>\n",
       "      <td>0.0</td>\n",
       "      <td>0.0</td>\n",
       "      <td>0.0</td>\n",
       "      <td>0</td>\n",
       "    </tr>\n",
       "    <tr>\n",
       "      <th>4</th>\n",
       "      <td>25502921</td>\n",
       "      <td>2018-08-16 11:03:55</td>\n",
       "      <td>0</td>\n",
       "      <td>151.393</td>\n",
       "      <td>0.0</td>\n",
       "      <td>0.0</td>\n",
       "      <td>0.0</td>\n",
       "      <td>0</td>\n",
       "    </tr>\n",
       "  </tbody>\n",
       "</table>\n",
       "</div>"
      ],
      "text/plain": [
       "   Company Id            DateTime  ON/OFF  Level of Fuel   PF  KiloWatt  KWH  \\\n",
       "0    25502921 2018-08-16 10:23:36       0        175.000  0.0       0.0  0.0   \n",
       "1    25502921 2018-08-16 10:33:55       0        155.557  0.0       0.0  0.0   \n",
       "2    25502921 2018-08-16 10:43:55       0        153.615  0.0       0.0  0.0   \n",
       "3    25502921 2018-08-16 10:53:55       0        152.512  0.0       0.0  0.0   \n",
       "4    25502921 2018-08-16 11:03:55       0        151.393  0.0       0.0  0.0   \n",
       "\n",
       "   ErrorCode  \n",
       "0          0  \n",
       "1          0  \n",
       "2          0  \n",
       "3          0  \n",
       "4          0  "
      ]
     },
     "execution_count": 6,
     "metadata": {},
     "output_type": "execute_result"
    }
   ],
   "source": [
    "data.head()"
   ]
  },
  {
   "cell_type": "code",
   "execution_count": 7,
   "metadata": {},
   "outputs": [
    {
     "data": {
      "text/plain": [
       "25927159    31585\n",
       "25750275    16306\n",
       "25921010    11124\n",
       "25921355    10111\n",
       "25502921     3665\n",
       "Name: Company Id, dtype: int64"
      ]
     },
     "execution_count": 7,
     "metadata": {},
     "output_type": "execute_result"
    }
   ],
   "source": [
    "data['Company Id'].value_counts()"
   ]
  },
  {
   "cell_type": "code",
   "execution_count": 8,
   "metadata": {},
   "outputs": [],
   "source": [
    "datagrp=data.groupby(['Company Id'],as_index=False)"
   ]
  },
  {
   "cell_type": "code",
   "execution_count": 9,
   "metadata": {},
   "outputs": [],
   "source": [
    "adata=datagrp.first()"
   ]
  },
  {
   "cell_type": "code",
   "execution_count": 10,
   "metadata": {},
   "outputs": [
    {
     "data": {
      "text/plain": [
       "(5, 8)"
      ]
     },
     "execution_count": 10,
     "metadata": {},
     "output_type": "execute_result"
    }
   ],
   "source": [
    "adata.shape"
   ]
  },
  {
   "cell_type": "code",
   "execution_count": 11,
   "metadata": {},
   "outputs": [
    {
     "data": {
      "text/html": [
       "<div>\n",
       "<style scoped>\n",
       "    .dataframe tbody tr th:only-of-type {\n",
       "        vertical-align: middle;\n",
       "    }\n",
       "\n",
       "    .dataframe tbody tr th {\n",
       "        vertical-align: top;\n",
       "    }\n",
       "\n",
       "    .dataframe thead th {\n",
       "        text-align: right;\n",
       "    }\n",
       "</style>\n",
       "<table border=\"1\" class=\"dataframe\">\n",
       "  <thead>\n",
       "    <tr style=\"text-align: right;\">\n",
       "      <th></th>\n",
       "      <th>Company Id</th>\n",
       "      <th>DateTime</th>\n",
       "      <th>ON/OFF</th>\n",
       "      <th>Level of Fuel</th>\n",
       "      <th>PF</th>\n",
       "      <th>KiloWatt</th>\n",
       "      <th>KWH</th>\n",
       "      <th>ErrorCode</th>\n",
       "    </tr>\n",
       "  </thead>\n",
       "  <tbody>\n",
       "    <tr>\n",
       "      <th>0</th>\n",
       "      <td>25502921</td>\n",
       "      <td>2018-08-16 10:23:36</td>\n",
       "      <td>0</td>\n",
       "      <td>175.0000</td>\n",
       "      <td>0.000</td>\n",
       "      <td>0.0</td>\n",
       "      <td>0.00000</td>\n",
       "      <td>0</td>\n",
       "    </tr>\n",
       "    <tr>\n",
       "      <th>1</th>\n",
       "      <td>25750275</td>\n",
       "      <td>2018-08-16 00:00:26</td>\n",
       "      <td>1</td>\n",
       "      <td>78.3680</td>\n",
       "      <td>0.962</td>\n",
       "      <td>48.7</td>\n",
       "      <td>33756.00000</td>\n",
       "      <td>0</td>\n",
       "    </tr>\n",
       "    <tr>\n",
       "      <th>2</th>\n",
       "      <td>25921010</td>\n",
       "      <td>2018-10-03 16:54:44</td>\n",
       "      <td>0</td>\n",
       "      <td>0.0000</td>\n",
       "      <td>0.000</td>\n",
       "      <td>0.0</td>\n",
       "      <td>0.00000</td>\n",
       "      <td>1</td>\n",
       "    </tr>\n",
       "    <tr>\n",
       "      <th>3</th>\n",
       "      <td>25921355</td>\n",
       "      <td>2018-08-16 00:04:37</td>\n",
       "      <td>0</td>\n",
       "      <td>97.9736</td>\n",
       "      <td>0.000</td>\n",
       "      <td>0.0</td>\n",
       "      <td>0.00000</td>\n",
       "      <td>0</td>\n",
       "    </tr>\n",
       "    <tr>\n",
       "      <th>4</th>\n",
       "      <td>25927159</td>\n",
       "      <td>2018-08-16 00:01:16</td>\n",
       "      <td>1</td>\n",
       "      <td>0.0000</td>\n",
       "      <td>0.847</td>\n",
       "      <td>69.0</td>\n",
       "      <td>195766.09375</td>\n",
       "      <td>1</td>\n",
       "    </tr>\n",
       "  </tbody>\n",
       "</table>\n",
       "</div>"
      ],
      "text/plain": [
       "   Company Id            DateTime  ON/OFF  Level of Fuel     PF  KiloWatt  \\\n",
       "0    25502921 2018-08-16 10:23:36       0       175.0000  0.000       0.0   \n",
       "1    25750275 2018-08-16 00:00:26       1        78.3680  0.962      48.7   \n",
       "2    25921010 2018-10-03 16:54:44       0         0.0000  0.000       0.0   \n",
       "3    25921355 2018-08-16 00:04:37       0        97.9736  0.000       0.0   \n",
       "4    25927159 2018-08-16 00:01:16       1         0.0000  0.847      69.0   \n",
       "\n",
       "            KWH  ErrorCode  \n",
       "0       0.00000          0  \n",
       "1   33756.00000          0  \n",
       "2       0.00000          1  \n",
       "3       0.00000          0  \n",
       "4  195766.09375          1  "
      ]
     },
     "execution_count": 11,
     "metadata": {},
     "output_type": "execute_result"
    }
   ],
   "source": [
    "adata"
   ]
  },
  {
   "cell_type": "code",
   "execution_count": 12,
   "metadata": {},
   "outputs": [],
   "source": [
    "# datagrp.get_group(datagrp.groups.keys()[0])"
   ]
  },
  {
   "cell_type": "code",
   "execution_count": 13,
   "metadata": {},
   "outputs": [
    {
     "data": {
      "text/plain": [
       "25502921"
      ]
     },
     "execution_count": 13,
     "metadata": {},
     "output_type": "execute_result"
    }
   ],
   "source": [
    "list(datagrp.groups.keys())[0]"
   ]
  },
  {
   "cell_type": "code",
   "execution_count": 14,
   "metadata": {},
   "outputs": [],
   "source": [
    "data=datagrp.get_group(list(datagrp.groups.keys())[1])"
   ]
  },
  {
   "cell_type": "code",
   "execution_count": 15,
   "metadata": {},
   "outputs": [
    {
     "data": {
      "text/plain": [
       "array([1, 0], dtype=int64)"
      ]
     },
     "execution_count": 15,
     "metadata": {},
     "output_type": "execute_result"
    }
   ],
   "source": [
    "data['ON/OFF'].unique()"
   ]
  },
  {
   "cell_type": "code",
   "execution_count": 16,
   "metadata": {},
   "outputs": [
    {
     "data": {
      "text/html": [
       "<div>\n",
       "<style scoped>\n",
       "    .dataframe tbody tr th:only-of-type {\n",
       "        vertical-align: middle;\n",
       "    }\n",
       "\n",
       "    .dataframe tbody tr th {\n",
       "        vertical-align: top;\n",
       "    }\n",
       "\n",
       "    .dataframe thead th {\n",
       "        text-align: right;\n",
       "    }\n",
       "</style>\n",
       "<table border=\"1\" class=\"dataframe\">\n",
       "  <thead>\n",
       "    <tr style=\"text-align: right;\">\n",
       "      <th></th>\n",
       "      <th>Company Id</th>\n",
       "      <th>DateTime</th>\n",
       "      <th>ON/OFF</th>\n",
       "      <th>Level of Fuel</th>\n",
       "      <th>PF</th>\n",
       "      <th>KiloWatt</th>\n",
       "      <th>KWH</th>\n",
       "      <th>ErrorCode</th>\n",
       "    </tr>\n",
       "  </thead>\n",
       "  <tbody>\n",
       "    <tr>\n",
       "      <th>3665</th>\n",
       "      <td>25750275</td>\n",
       "      <td>2018-08-16 00:00:26</td>\n",
       "      <td>1</td>\n",
       "      <td>78.368</td>\n",
       "      <td>0.962</td>\n",
       "      <td>48.7</td>\n",
       "      <td>33756.000000</td>\n",
       "      <td>0</td>\n",
       "    </tr>\n",
       "    <tr>\n",
       "      <th>3666</th>\n",
       "      <td>25750275</td>\n",
       "      <td>2018-08-16 00:00:55</td>\n",
       "      <td>1</td>\n",
       "      <td>78.368</td>\n",
       "      <td>0.962</td>\n",
       "      <td>48.7</td>\n",
       "      <td>33756.398438</td>\n",
       "      <td>0</td>\n",
       "    </tr>\n",
       "    <tr>\n",
       "      <th>3667</th>\n",
       "      <td>25750275</td>\n",
       "      <td>2018-08-16 00:01:25</td>\n",
       "      <td>1</td>\n",
       "      <td>82.160</td>\n",
       "      <td>0.962</td>\n",
       "      <td>48.8</td>\n",
       "      <td>33756.800781</td>\n",
       "      <td>0</td>\n",
       "    </tr>\n",
       "    <tr>\n",
       "      <th>3668</th>\n",
       "      <td>25750275</td>\n",
       "      <td>2018-08-16 00:01:56</td>\n",
       "      <td>1</td>\n",
       "      <td>79.712</td>\n",
       "      <td>0.962</td>\n",
       "      <td>48.8</td>\n",
       "      <td>33757.199219</td>\n",
       "      <td>0</td>\n",
       "    </tr>\n",
       "    <tr>\n",
       "      <th>3669</th>\n",
       "      <td>25750275</td>\n",
       "      <td>2018-08-16 00:02:25</td>\n",
       "      <td>1</td>\n",
       "      <td>78.704</td>\n",
       "      <td>0.962</td>\n",
       "      <td>48.8</td>\n",
       "      <td>33757.699219</td>\n",
       "      <td>0</td>\n",
       "    </tr>\n",
       "    <tr>\n",
       "      <th>...</th>\n",
       "      <td>...</td>\n",
       "      <td>...</td>\n",
       "      <td>...</td>\n",
       "      <td>...</td>\n",
       "      <td>...</td>\n",
       "      <td>...</td>\n",
       "      <td>...</td>\n",
       "      <td>...</td>\n",
       "    </tr>\n",
       "    <tr>\n",
       "      <th>19868</th>\n",
       "      <td>25750275</td>\n",
       "      <td>2018-10-16 00:16:52</td>\n",
       "      <td>1</td>\n",
       "      <td>77.936</td>\n",
       "      <td>0.909</td>\n",
       "      <td>26.7</td>\n",
       "      <td>53681.500000</td>\n",
       "      <td>0</td>\n",
       "    </tr>\n",
       "    <tr>\n",
       "      <th>19869</th>\n",
       "      <td>25750275</td>\n",
       "      <td>2018-10-16 00:17:23</td>\n",
       "      <td>1</td>\n",
       "      <td>80.720</td>\n",
       "      <td>0.909</td>\n",
       "      <td>26.7</td>\n",
       "      <td>53681.699219</td>\n",
       "      <td>0</td>\n",
       "    </tr>\n",
       "    <tr>\n",
       "      <th>19870</th>\n",
       "      <td>25750275</td>\n",
       "      <td>2018-10-16 00:17:53</td>\n",
       "      <td>1</td>\n",
       "      <td>81.936</td>\n",
       "      <td>0.912</td>\n",
       "      <td>26.0</td>\n",
       "      <td>53681.898438</td>\n",
       "      <td>0</td>\n",
       "    </tr>\n",
       "    <tr>\n",
       "      <th>19871</th>\n",
       "      <td>25750275</td>\n",
       "      <td>2018-10-16 00:18:23</td>\n",
       "      <td>1</td>\n",
       "      <td>79.824</td>\n",
       "      <td>0.928</td>\n",
       "      <td>10.6</td>\n",
       "      <td>53682.101562</td>\n",
       "      <td>0</td>\n",
       "    </tr>\n",
       "    <tr>\n",
       "      <th>19872</th>\n",
       "      <td>25750275</td>\n",
       "      <td>2018-10-16 00:18:53</td>\n",
       "      <td>1</td>\n",
       "      <td>83.728</td>\n",
       "      <td>0.000</td>\n",
       "      <td>0.0</td>\n",
       "      <td>53682.101562</td>\n",
       "      <td>0</td>\n",
       "    </tr>\n",
       "  </tbody>\n",
       "</table>\n",
       "<p>15422 rows × 8 columns</p>\n",
       "</div>"
      ],
      "text/plain": [
       "       Company Id            DateTime  ON/OFF  Level of Fuel     PF  KiloWatt  \\\n",
       "3665     25750275 2018-08-16 00:00:26       1         78.368  0.962      48.7   \n",
       "3666     25750275 2018-08-16 00:00:55       1         78.368  0.962      48.7   \n",
       "3667     25750275 2018-08-16 00:01:25       1         82.160  0.962      48.8   \n",
       "3668     25750275 2018-08-16 00:01:56       1         79.712  0.962      48.8   \n",
       "3669     25750275 2018-08-16 00:02:25       1         78.704  0.962      48.8   \n",
       "...           ...                 ...     ...            ...    ...       ...   \n",
       "19868    25750275 2018-10-16 00:16:52       1         77.936  0.909      26.7   \n",
       "19869    25750275 2018-10-16 00:17:23       1         80.720  0.909      26.7   \n",
       "19870    25750275 2018-10-16 00:17:53       1         81.936  0.912      26.0   \n",
       "19871    25750275 2018-10-16 00:18:23       1         79.824  0.928      10.6   \n",
       "19872    25750275 2018-10-16 00:18:53       1         83.728  0.000       0.0   \n",
       "\n",
       "                KWH  ErrorCode  \n",
       "3665   33756.000000          0  \n",
       "3666   33756.398438          0  \n",
       "3667   33756.800781          0  \n",
       "3668   33757.199219          0  \n",
       "3669   33757.699219          0  \n",
       "...             ...        ...  \n",
       "19868  53681.500000          0  \n",
       "19869  53681.699219          0  \n",
       "19870  53681.898438          0  \n",
       "19871  53682.101562          0  \n",
       "19872  53682.101562          0  \n",
       "\n",
       "[15422 rows x 8 columns]"
      ]
     },
     "execution_count": 16,
     "metadata": {},
     "output_type": "execute_result"
    }
   ],
   "source": [
    "data[data['ON/OFF']==1]"
   ]
  },
  {
   "cell_type": "code",
   "execution_count": 17,
   "metadata": {},
   "outputs": [],
   "source": [
    "df=data.copy()"
   ]
  },
  {
   "cell_type": "code",
   "execution_count": 18,
   "metadata": {},
   "outputs": [],
   "source": [
    "df['day'] = df.DateTime.dt.day\n",
    "df['month'] = df.DateTime.dt.month\n",
    "df['year'] = df.DateTime.dt.year\n",
    "df['hour']=df.DateTime.dt.hour\n",
    "df['weekday']=df.DateTime.dt.weekday"
   ]
  },
  {
   "cell_type": "code",
   "execution_count": 19,
   "metadata": {},
   "outputs": [
    {
     "data": {
      "text/plain": [
       "array([16, 17, 18, 19, 20, 21, 22, 23, 12, 13, 14, 15], dtype=int64)"
      ]
     },
     "execution_count": 19,
     "metadata": {},
     "output_type": "execute_result"
    }
   ],
   "source": [
    "df.day.unique()"
   ]
  },
  {
   "cell_type": "code",
   "execution_count": 20,
   "metadata": {},
   "outputs": [
    {
     "data": {
      "text/plain": [
       "array([ 8, 10], dtype=int64)"
      ]
     },
     "execution_count": 20,
     "metadata": {},
     "output_type": "execute_result"
    }
   ],
   "source": [
    "df.month.unique()"
   ]
  },
  {
   "cell_type": "code",
   "execution_count": 21,
   "metadata": {},
   "outputs": [],
   "source": [
    "df['switch']=df['ON/OFF']"
   ]
  },
  {
   "cell_type": "code",
   "execution_count": 22,
   "metadata": {},
   "outputs": [
    {
     "data": {
      "text/html": [
       "<div>\n",
       "<style scoped>\n",
       "    .dataframe tbody tr th:only-of-type {\n",
       "        vertical-align: middle;\n",
       "    }\n",
       "\n",
       "    .dataframe tbody tr th {\n",
       "        vertical-align: top;\n",
       "    }\n",
       "\n",
       "    .dataframe thead th {\n",
       "        text-align: right;\n",
       "    }\n",
       "</style>\n",
       "<table border=\"1\" class=\"dataframe\">\n",
       "  <thead>\n",
       "    <tr style=\"text-align: right;\">\n",
       "      <th></th>\n",
       "      <th>Company Id</th>\n",
       "      <th>DateTime</th>\n",
       "      <th>ON/OFF</th>\n",
       "      <th>Level of Fuel</th>\n",
       "      <th>PF</th>\n",
       "      <th>KiloWatt</th>\n",
       "      <th>KWH</th>\n",
       "      <th>ErrorCode</th>\n",
       "      <th>day</th>\n",
       "      <th>month</th>\n",
       "      <th>year</th>\n",
       "      <th>hour</th>\n",
       "      <th>weekday</th>\n",
       "      <th>switch</th>\n",
       "    </tr>\n",
       "  </thead>\n",
       "  <tbody>\n",
       "    <tr>\n",
       "      <th>3665</th>\n",
       "      <td>25750275</td>\n",
       "      <td>2018-08-16 00:00:26</td>\n",
       "      <td>1</td>\n",
       "      <td>78.368</td>\n",
       "      <td>0.962</td>\n",
       "      <td>48.7</td>\n",
       "      <td>33756.000000</td>\n",
       "      <td>0</td>\n",
       "      <td>16</td>\n",
       "      <td>8</td>\n",
       "      <td>2018</td>\n",
       "      <td>0</td>\n",
       "      <td>3</td>\n",
       "      <td>1</td>\n",
       "    </tr>\n",
       "    <tr>\n",
       "      <th>3666</th>\n",
       "      <td>25750275</td>\n",
       "      <td>2018-08-16 00:00:55</td>\n",
       "      <td>1</td>\n",
       "      <td>78.368</td>\n",
       "      <td>0.962</td>\n",
       "      <td>48.7</td>\n",
       "      <td>33756.398438</td>\n",
       "      <td>0</td>\n",
       "      <td>16</td>\n",
       "      <td>8</td>\n",
       "      <td>2018</td>\n",
       "      <td>0</td>\n",
       "      <td>3</td>\n",
       "      <td>1</td>\n",
       "    </tr>\n",
       "    <tr>\n",
       "      <th>3667</th>\n",
       "      <td>25750275</td>\n",
       "      <td>2018-08-16 00:01:25</td>\n",
       "      <td>1</td>\n",
       "      <td>82.160</td>\n",
       "      <td>0.962</td>\n",
       "      <td>48.8</td>\n",
       "      <td>33756.800781</td>\n",
       "      <td>0</td>\n",
       "      <td>16</td>\n",
       "      <td>8</td>\n",
       "      <td>2018</td>\n",
       "      <td>0</td>\n",
       "      <td>3</td>\n",
       "      <td>1</td>\n",
       "    </tr>\n",
       "    <tr>\n",
       "      <th>3668</th>\n",
       "      <td>25750275</td>\n",
       "      <td>2018-08-16 00:01:56</td>\n",
       "      <td>1</td>\n",
       "      <td>79.712</td>\n",
       "      <td>0.962</td>\n",
       "      <td>48.8</td>\n",
       "      <td>33757.199219</td>\n",
       "      <td>0</td>\n",
       "      <td>16</td>\n",
       "      <td>8</td>\n",
       "      <td>2018</td>\n",
       "      <td>0</td>\n",
       "      <td>3</td>\n",
       "      <td>1</td>\n",
       "    </tr>\n",
       "    <tr>\n",
       "      <th>3669</th>\n",
       "      <td>25750275</td>\n",
       "      <td>2018-08-16 00:02:25</td>\n",
       "      <td>1</td>\n",
       "      <td>78.704</td>\n",
       "      <td>0.962</td>\n",
       "      <td>48.8</td>\n",
       "      <td>33757.699219</td>\n",
       "      <td>0</td>\n",
       "      <td>16</td>\n",
       "      <td>8</td>\n",
       "      <td>2018</td>\n",
       "      <td>0</td>\n",
       "      <td>3</td>\n",
       "      <td>1</td>\n",
       "    </tr>\n",
       "    <tr>\n",
       "      <th>...</th>\n",
       "      <td>...</td>\n",
       "      <td>...</td>\n",
       "      <td>...</td>\n",
       "      <td>...</td>\n",
       "      <td>...</td>\n",
       "      <td>...</td>\n",
       "      <td>...</td>\n",
       "      <td>...</td>\n",
       "      <td>...</td>\n",
       "      <td>...</td>\n",
       "      <td>...</td>\n",
       "      <td>...</td>\n",
       "      <td>...</td>\n",
       "      <td>...</td>\n",
       "    </tr>\n",
       "    <tr>\n",
       "      <th>5431</th>\n",
       "      <td>25750275</td>\n",
       "      <td>2018-08-16 23:57:57</td>\n",
       "      <td>1</td>\n",
       "      <td>76.704</td>\n",
       "      <td>0.953</td>\n",
       "      <td>53.9</td>\n",
       "      <td>34372.601562</td>\n",
       "      <td>0</td>\n",
       "      <td>16</td>\n",
       "      <td>8</td>\n",
       "      <td>2018</td>\n",
       "      <td>23</td>\n",
       "      <td>3</td>\n",
       "      <td>1</td>\n",
       "    </tr>\n",
       "    <tr>\n",
       "      <th>5432</th>\n",
       "      <td>25750275</td>\n",
       "      <td>2018-08-16 23:58:26</td>\n",
       "      <td>1</td>\n",
       "      <td>75.696</td>\n",
       "      <td>0.953</td>\n",
       "      <td>53.8</td>\n",
       "      <td>34373.101562</td>\n",
       "      <td>0</td>\n",
       "      <td>16</td>\n",
       "      <td>8</td>\n",
       "      <td>2018</td>\n",
       "      <td>23</td>\n",
       "      <td>3</td>\n",
       "      <td>1</td>\n",
       "    </tr>\n",
       "    <tr>\n",
       "      <th>5433</th>\n",
       "      <td>25750275</td>\n",
       "      <td>2018-08-16 23:58:56</td>\n",
       "      <td>1</td>\n",
       "      <td>75.696</td>\n",
       "      <td>0.953</td>\n",
       "      <td>54.1</td>\n",
       "      <td>34373.500000</td>\n",
       "      <td>0</td>\n",
       "      <td>16</td>\n",
       "      <td>8</td>\n",
       "      <td>2018</td>\n",
       "      <td>23</td>\n",
       "      <td>3</td>\n",
       "      <td>1</td>\n",
       "    </tr>\n",
       "    <tr>\n",
       "      <th>5434</th>\n",
       "      <td>25750275</td>\n",
       "      <td>2018-08-16 23:59:27</td>\n",
       "      <td>1</td>\n",
       "      <td>75.696</td>\n",
       "      <td>0.953</td>\n",
       "      <td>54.0</td>\n",
       "      <td>34374.000000</td>\n",
       "      <td>0</td>\n",
       "      <td>16</td>\n",
       "      <td>8</td>\n",
       "      <td>2018</td>\n",
       "      <td>23</td>\n",
       "      <td>3</td>\n",
       "      <td>1</td>\n",
       "    </tr>\n",
       "    <tr>\n",
       "      <th>5435</th>\n",
       "      <td>25750275</td>\n",
       "      <td>2018-08-16 23:59:56</td>\n",
       "      <td>1</td>\n",
       "      <td>75.696</td>\n",
       "      <td>0.953</td>\n",
       "      <td>54.1</td>\n",
       "      <td>34374.398438</td>\n",
       "      <td>0</td>\n",
       "      <td>16</td>\n",
       "      <td>8</td>\n",
       "      <td>2018</td>\n",
       "      <td>23</td>\n",
       "      <td>3</td>\n",
       "      <td>1</td>\n",
       "    </tr>\n",
       "  </tbody>\n",
       "</table>\n",
       "<p>1771 rows × 14 columns</p>\n",
       "</div>"
      ],
      "text/plain": [
       "      Company Id            DateTime  ON/OFF  Level of Fuel     PF  KiloWatt  \\\n",
       "3665    25750275 2018-08-16 00:00:26       1         78.368  0.962      48.7   \n",
       "3666    25750275 2018-08-16 00:00:55       1         78.368  0.962      48.7   \n",
       "3667    25750275 2018-08-16 00:01:25       1         82.160  0.962      48.8   \n",
       "3668    25750275 2018-08-16 00:01:56       1         79.712  0.962      48.8   \n",
       "3669    25750275 2018-08-16 00:02:25       1         78.704  0.962      48.8   \n",
       "...          ...                 ...     ...            ...    ...       ...   \n",
       "5431    25750275 2018-08-16 23:57:57       1         76.704  0.953      53.9   \n",
       "5432    25750275 2018-08-16 23:58:26       1         75.696  0.953      53.8   \n",
       "5433    25750275 2018-08-16 23:58:56       1         75.696  0.953      54.1   \n",
       "5434    25750275 2018-08-16 23:59:27       1         75.696  0.953      54.0   \n",
       "5435    25750275 2018-08-16 23:59:56       1         75.696  0.953      54.1   \n",
       "\n",
       "               KWH  ErrorCode  day  month  year  hour  weekday  switch  \n",
       "3665  33756.000000          0   16      8  2018     0        3       1  \n",
       "3666  33756.398438          0   16      8  2018     0        3       1  \n",
       "3667  33756.800781          0   16      8  2018     0        3       1  \n",
       "3668  33757.199219          0   16      8  2018     0        3       1  \n",
       "3669  33757.699219          0   16      8  2018     0        3       1  \n",
       "...            ...        ...  ...    ...   ...   ...      ...     ...  \n",
       "5431  34372.601562          0   16      8  2018    23        3       1  \n",
       "5432  34373.101562          0   16      8  2018    23        3       1  \n",
       "5433  34373.500000          0   16      8  2018    23        3       1  \n",
       "5434  34374.000000          0   16      8  2018    23        3       1  \n",
       "5435  34374.398438          0   16      8  2018    23        3       1  \n",
       "\n",
       "[1771 rows x 14 columns]"
      ]
     },
     "execution_count": 22,
     "metadata": {},
     "output_type": "execute_result"
    }
   ],
   "source": [
    "df[(df.day==16) & (df.month==8)]"
   ]
  },
  {
   "cell_type": "code",
   "execution_count": 23,
   "metadata": {},
   "outputs": [
    {
     "data": {
      "text/plain": [
       "array([ 0,  1,  2,  3,  4,  5,  6,  7,  8,  9, 10, 11, 12, 13, 14, 15, 16,\n",
       "       17, 18, 19, 20, 21, 22, 23], dtype=int64)"
      ]
     },
     "execution_count": 23,
     "metadata": {},
     "output_type": "execute_result"
    }
   ],
   "source": [
    "df.hour.unique()"
   ]
  },
  {
   "cell_type": "code",
   "execution_count": 24,
   "metadata": {},
   "outputs": [
    {
     "data": {
      "text/plain": [
       "array([3, 4, 5, 6, 0, 1, 2], dtype=int64)"
      ]
     },
     "execution_count": 24,
     "metadata": {},
     "output_type": "execute_result"
    }
   ],
   "source": [
    "df.weekday.unique()"
   ]
  },
  {
   "cell_type": "code",
   "execution_count": 25,
   "metadata": {},
   "outputs": [
    {
     "data": {
      "text/plain": [
       "0    16119\n",
       "1      187\n",
       "Name: ErrorCode, dtype: int64"
      ]
     },
     "execution_count": 25,
     "metadata": {},
     "output_type": "execute_result"
    }
   ],
   "source": [
    "df.ErrorCode.value_counts()"
   ]
  },
  {
   "cell_type": "code",
   "execution_count": 26,
   "metadata": {},
   "outputs": [
    {
     "data": {
      "text/html": [
       "<div>\n",
       "<style scoped>\n",
       "    .dataframe tbody tr th:only-of-type {\n",
       "        vertical-align: middle;\n",
       "    }\n",
       "\n",
       "    .dataframe tbody tr th {\n",
       "        vertical-align: top;\n",
       "    }\n",
       "\n",
       "    .dataframe thead th {\n",
       "        text-align: right;\n",
       "    }\n",
       "</style>\n",
       "<table border=\"1\" class=\"dataframe\">\n",
       "  <thead>\n",
       "    <tr style=\"text-align: right;\">\n",
       "      <th></th>\n",
       "      <th>day</th>\n",
       "      <th>month</th>\n",
       "      <th>Company Id</th>\n",
       "      <th>DateTime</th>\n",
       "      <th>ON/OFF</th>\n",
       "      <th>Level of Fuel</th>\n",
       "      <th>PF</th>\n",
       "      <th>KiloWatt</th>\n",
       "      <th>KWH</th>\n",
       "      <th>ErrorCode</th>\n",
       "      <th>year</th>\n",
       "      <th>hour</th>\n",
       "      <th>weekday</th>\n",
       "      <th>switch</th>\n",
       "    </tr>\n",
       "  </thead>\n",
       "  <tbody>\n",
       "    <tr>\n",
       "      <th>0</th>\n",
       "      <td>12</td>\n",
       "      <td>10</td>\n",
       "      <td>25750275</td>\n",
       "      <td>2018-10-12 23:59:59</td>\n",
       "      <td>1</td>\n",
       "      <td>131.104</td>\n",
       "      <td>0.976</td>\n",
       "      <td>37.2</td>\n",
       "      <td>52929.601562</td>\n",
       "      <td>0</td>\n",
       "      <td>2018</td>\n",
       "      <td>23</td>\n",
       "      <td>4</td>\n",
       "      <td>1</td>\n",
       "    </tr>\n",
       "    <tr>\n",
       "      <th>1</th>\n",
       "      <td>13</td>\n",
       "      <td>10</td>\n",
       "      <td>25750275</td>\n",
       "      <td>2018-10-13 23:59:45</td>\n",
       "      <td>1</td>\n",
       "      <td>98.336</td>\n",
       "      <td>0.926</td>\n",
       "      <td>33.0</td>\n",
       "      <td>53178.199219</td>\n",
       "      <td>0</td>\n",
       "      <td>2018</td>\n",
       "      <td>23</td>\n",
       "      <td>5</td>\n",
       "      <td>1</td>\n",
       "    </tr>\n",
       "    <tr>\n",
       "      <th>2</th>\n",
       "      <td>14</td>\n",
       "      <td>10</td>\n",
       "      <td>25750275</td>\n",
       "      <td>2018-10-14 23:57:10</td>\n",
       "      <td>1</td>\n",
       "      <td>152.288</td>\n",
       "      <td>0.983</td>\n",
       "      <td>25.5</td>\n",
       "      <td>53517.500000</td>\n",
       "      <td>0</td>\n",
       "      <td>2018</td>\n",
       "      <td>23</td>\n",
       "      <td>6</td>\n",
       "      <td>1</td>\n",
       "    </tr>\n",
       "    <tr>\n",
       "      <th>3</th>\n",
       "      <td>15</td>\n",
       "      <td>10</td>\n",
       "      <td>25750275</td>\n",
       "      <td>2018-10-15 23:59:52</td>\n",
       "      <td>1</td>\n",
       "      <td>139.472</td>\n",
       "      <td>0.915</td>\n",
       "      <td>35.8</td>\n",
       "      <td>53673.898438</td>\n",
       "      <td>0</td>\n",
       "      <td>2018</td>\n",
       "      <td>23</td>\n",
       "      <td>0</td>\n",
       "      <td>1</td>\n",
       "    </tr>\n",
       "    <tr>\n",
       "      <th>4</th>\n",
       "      <td>16</td>\n",
       "      <td>8</td>\n",
       "      <td>25750275</td>\n",
       "      <td>2018-08-16 23:59:56</td>\n",
       "      <td>1</td>\n",
       "      <td>143.936</td>\n",
       "      <td>0.995</td>\n",
       "      <td>63.1</td>\n",
       "      <td>34374.398438</td>\n",
       "      <td>0</td>\n",
       "      <td>2018</td>\n",
       "      <td>23</td>\n",
       "      <td>3</td>\n",
       "      <td>1</td>\n",
       "    </tr>\n",
       "    <tr>\n",
       "      <th>5</th>\n",
       "      <td>16</td>\n",
       "      <td>10</td>\n",
       "      <td>25750275</td>\n",
       "      <td>2018-10-16 16:48:53</td>\n",
       "      <td>1</td>\n",
       "      <td>158.864</td>\n",
       "      <td>0.928</td>\n",
       "      <td>26.9</td>\n",
       "      <td>53682.101562</td>\n",
       "      <td>0</td>\n",
       "      <td>2018</td>\n",
       "      <td>16</td>\n",
       "      <td>1</td>\n",
       "      <td>1</td>\n",
       "    </tr>\n",
       "    <tr>\n",
       "      <th>6</th>\n",
       "      <td>17</td>\n",
       "      <td>8</td>\n",
       "      <td>25750275</td>\n",
       "      <td>2018-08-17 23:59:39</td>\n",
       "      <td>1</td>\n",
       "      <td>150.176</td>\n",
       "      <td>0.998</td>\n",
       "      <td>60.2</td>\n",
       "      <td>34902.800781</td>\n",
       "      <td>0</td>\n",
       "      <td>2018</td>\n",
       "      <td>23</td>\n",
       "      <td>4</td>\n",
       "      <td>1</td>\n",
       "    </tr>\n",
       "    <tr>\n",
       "      <th>7</th>\n",
       "      <td>18</td>\n",
       "      <td>8</td>\n",
       "      <td>25750275</td>\n",
       "      <td>2018-08-18 23:59:50</td>\n",
       "      <td>1</td>\n",
       "      <td>149.392</td>\n",
       "      <td>0.995</td>\n",
       "      <td>55.5</td>\n",
       "      <td>35438.199219</td>\n",
       "      <td>0</td>\n",
       "      <td>2018</td>\n",
       "      <td>23</td>\n",
       "      <td>5</td>\n",
       "      <td>1</td>\n",
       "    </tr>\n",
       "    <tr>\n",
       "      <th>8</th>\n",
       "      <td>19</td>\n",
       "      <td>8</td>\n",
       "      <td>25750275</td>\n",
       "      <td>2018-08-19 23:59:44</td>\n",
       "      <td>1</td>\n",
       "      <td>117.952</td>\n",
       "      <td>0.991</td>\n",
       "      <td>54.8</td>\n",
       "      <td>35904.800781</td>\n",
       "      <td>0</td>\n",
       "      <td>2018</td>\n",
       "      <td>23</td>\n",
       "      <td>6</td>\n",
       "      <td>1</td>\n",
       "    </tr>\n",
       "    <tr>\n",
       "      <th>9</th>\n",
       "      <td>20</td>\n",
       "      <td>8</td>\n",
       "      <td>25750275</td>\n",
       "      <td>2018-08-20 23:59:33</td>\n",
       "      <td>1</td>\n",
       "      <td>135.008</td>\n",
       "      <td>0.990</td>\n",
       "      <td>55.3</td>\n",
       "      <td>36325.699219</td>\n",
       "      <td>0</td>\n",
       "      <td>2018</td>\n",
       "      <td>23</td>\n",
       "      <td>0</td>\n",
       "      <td>1</td>\n",
       "    </tr>\n",
       "    <tr>\n",
       "      <th>10</th>\n",
       "      <td>21</td>\n",
       "      <td>8</td>\n",
       "      <td>25750275</td>\n",
       "      <td>2018-08-21 23:59:36</td>\n",
       "      <td>1</td>\n",
       "      <td>126.880</td>\n",
       "      <td>0.992</td>\n",
       "      <td>50.7</td>\n",
       "      <td>36763.500000</td>\n",
       "      <td>0</td>\n",
       "      <td>2018</td>\n",
       "      <td>23</td>\n",
       "      <td>1</td>\n",
       "      <td>1</td>\n",
       "    </tr>\n",
       "    <tr>\n",
       "      <th>11</th>\n",
       "      <td>22</td>\n",
       "      <td>8</td>\n",
       "      <td>25750275</td>\n",
       "      <td>2018-08-22 23:59:47</td>\n",
       "      <td>1</td>\n",
       "      <td>146.384</td>\n",
       "      <td>0.997</td>\n",
       "      <td>54.4</td>\n",
       "      <td>37252.800781</td>\n",
       "      <td>0</td>\n",
       "      <td>2018</td>\n",
       "      <td>23</td>\n",
       "      <td>2</td>\n",
       "      <td>1</td>\n",
       "    </tr>\n",
       "    <tr>\n",
       "      <th>12</th>\n",
       "      <td>23</td>\n",
       "      <td>8</td>\n",
       "      <td>25750275</td>\n",
       "      <td>2018-08-23 09:30:47</td>\n",
       "      <td>1</td>\n",
       "      <td>113.376</td>\n",
       "      <td>0.990</td>\n",
       "      <td>53.5</td>\n",
       "      <td>37593.398438</td>\n",
       "      <td>0</td>\n",
       "      <td>2018</td>\n",
       "      <td>9</td>\n",
       "      <td>3</td>\n",
       "      <td>1</td>\n",
       "    </tr>\n",
       "  </tbody>\n",
       "</table>\n",
       "</div>"
      ],
      "text/plain": [
       "    day  month  Company Id            DateTime  ON/OFF  Level of Fuel     PF  \\\n",
       "0    12     10    25750275 2018-10-12 23:59:59       1        131.104  0.976   \n",
       "1    13     10    25750275 2018-10-13 23:59:45       1         98.336  0.926   \n",
       "2    14     10    25750275 2018-10-14 23:57:10       1        152.288  0.983   \n",
       "3    15     10    25750275 2018-10-15 23:59:52       1        139.472  0.915   \n",
       "4    16      8    25750275 2018-08-16 23:59:56       1        143.936  0.995   \n",
       "5    16     10    25750275 2018-10-16 16:48:53       1        158.864  0.928   \n",
       "6    17      8    25750275 2018-08-17 23:59:39       1        150.176  0.998   \n",
       "7    18      8    25750275 2018-08-18 23:59:50       1        149.392  0.995   \n",
       "8    19      8    25750275 2018-08-19 23:59:44       1        117.952  0.991   \n",
       "9    20      8    25750275 2018-08-20 23:59:33       1        135.008  0.990   \n",
       "10   21      8    25750275 2018-08-21 23:59:36       1        126.880  0.992   \n",
       "11   22      8    25750275 2018-08-22 23:59:47       1        146.384  0.997   \n",
       "12   23      8    25750275 2018-08-23 09:30:47       1        113.376  0.990   \n",
       "\n",
       "    KiloWatt           KWH  ErrorCode  year  hour  weekday  switch  \n",
       "0       37.2  52929.601562          0  2018    23        4       1  \n",
       "1       33.0  53178.199219          0  2018    23        5       1  \n",
       "2       25.5  53517.500000          0  2018    23        6       1  \n",
       "3       35.8  53673.898438          0  2018    23        0       1  \n",
       "4       63.1  34374.398438          0  2018    23        3       1  \n",
       "5       26.9  53682.101562          0  2018    16        1       1  \n",
       "6       60.2  34902.800781          0  2018    23        4       1  \n",
       "7       55.5  35438.199219          0  2018    23        5       1  \n",
       "8       54.8  35904.800781          0  2018    23        6       1  \n",
       "9       55.3  36325.699219          0  2018    23        0       1  \n",
       "10      50.7  36763.500000          0  2018    23        1       1  \n",
       "11      54.4  37252.800781          0  2018    23        2       1  \n",
       "12      53.5  37593.398438          0  2018     9        3       1  "
      ]
     },
     "execution_count": 26,
     "metadata": {},
     "output_type": "execute_result"
    }
   ],
   "source": [
    "df[df.ErrorCode==0].groupby(['day','month'],as_index=False).max()"
   ]
  },
  {
   "cell_type": "code",
   "execution_count": 27,
   "metadata": {},
   "outputs": [],
   "source": [
    "day168=df[(df.day==16) & (df.month==8)]"
   ]
  },
  {
   "cell_type": "code",
   "execution_count": 28,
   "metadata": {},
   "outputs": [
    {
     "data": {
      "text/html": [
       "<div>\n",
       "<style scoped>\n",
       "    .dataframe tbody tr th:only-of-type {\n",
       "        vertical-align: middle;\n",
       "    }\n",
       "\n",
       "    .dataframe tbody tr th {\n",
       "        vertical-align: top;\n",
       "    }\n",
       "\n",
       "    .dataframe thead th {\n",
       "        text-align: right;\n",
       "    }\n",
       "</style>\n",
       "<table border=\"1\" class=\"dataframe\">\n",
       "  <thead>\n",
       "    <tr style=\"text-align: right;\">\n",
       "      <th></th>\n",
       "      <th>Company Id</th>\n",
       "      <th>DateTime</th>\n",
       "      <th>ON/OFF</th>\n",
       "      <th>Level of Fuel</th>\n",
       "      <th>PF</th>\n",
       "      <th>KiloWatt</th>\n",
       "      <th>KWH</th>\n",
       "      <th>ErrorCode</th>\n",
       "      <th>day</th>\n",
       "      <th>month</th>\n",
       "      <th>year</th>\n",
       "      <th>hour</th>\n",
       "      <th>weekday</th>\n",
       "      <th>switch</th>\n",
       "    </tr>\n",
       "  </thead>\n",
       "  <tbody>\n",
       "    <tr>\n",
       "      <th>3665</th>\n",
       "      <td>25750275</td>\n",
       "      <td>2018-08-16 00:00:26</td>\n",
       "      <td>1</td>\n",
       "      <td>78.368</td>\n",
       "      <td>0.962</td>\n",
       "      <td>48.7</td>\n",
       "      <td>33756.000000</td>\n",
       "      <td>0</td>\n",
       "      <td>16</td>\n",
       "      <td>8</td>\n",
       "      <td>2018</td>\n",
       "      <td>0</td>\n",
       "      <td>3</td>\n",
       "      <td>1</td>\n",
       "    </tr>\n",
       "    <tr>\n",
       "      <th>3666</th>\n",
       "      <td>25750275</td>\n",
       "      <td>2018-08-16 00:00:55</td>\n",
       "      <td>1</td>\n",
       "      <td>78.368</td>\n",
       "      <td>0.962</td>\n",
       "      <td>48.7</td>\n",
       "      <td>33756.398438</td>\n",
       "      <td>0</td>\n",
       "      <td>16</td>\n",
       "      <td>8</td>\n",
       "      <td>2018</td>\n",
       "      <td>0</td>\n",
       "      <td>3</td>\n",
       "      <td>1</td>\n",
       "    </tr>\n",
       "    <tr>\n",
       "      <th>3667</th>\n",
       "      <td>25750275</td>\n",
       "      <td>2018-08-16 00:01:25</td>\n",
       "      <td>1</td>\n",
       "      <td>82.160</td>\n",
       "      <td>0.962</td>\n",
       "      <td>48.8</td>\n",
       "      <td>33756.800781</td>\n",
       "      <td>0</td>\n",
       "      <td>16</td>\n",
       "      <td>8</td>\n",
       "      <td>2018</td>\n",
       "      <td>0</td>\n",
       "      <td>3</td>\n",
       "      <td>1</td>\n",
       "    </tr>\n",
       "    <tr>\n",
       "      <th>3668</th>\n",
       "      <td>25750275</td>\n",
       "      <td>2018-08-16 00:01:56</td>\n",
       "      <td>1</td>\n",
       "      <td>79.712</td>\n",
       "      <td>0.962</td>\n",
       "      <td>48.8</td>\n",
       "      <td>33757.199219</td>\n",
       "      <td>0</td>\n",
       "      <td>16</td>\n",
       "      <td>8</td>\n",
       "      <td>2018</td>\n",
       "      <td>0</td>\n",
       "      <td>3</td>\n",
       "      <td>1</td>\n",
       "    </tr>\n",
       "    <tr>\n",
       "      <th>3669</th>\n",
       "      <td>25750275</td>\n",
       "      <td>2018-08-16 00:02:25</td>\n",
       "      <td>1</td>\n",
       "      <td>78.704</td>\n",
       "      <td>0.962</td>\n",
       "      <td>48.8</td>\n",
       "      <td>33757.699219</td>\n",
       "      <td>0</td>\n",
       "      <td>16</td>\n",
       "      <td>8</td>\n",
       "      <td>2018</td>\n",
       "      <td>0</td>\n",
       "      <td>3</td>\n",
       "      <td>1</td>\n",
       "    </tr>\n",
       "    <tr>\n",
       "      <th>...</th>\n",
       "      <td>...</td>\n",
       "      <td>...</td>\n",
       "      <td>...</td>\n",
       "      <td>...</td>\n",
       "      <td>...</td>\n",
       "      <td>...</td>\n",
       "      <td>...</td>\n",
       "      <td>...</td>\n",
       "      <td>...</td>\n",
       "      <td>...</td>\n",
       "      <td>...</td>\n",
       "      <td>...</td>\n",
       "      <td>...</td>\n",
       "      <td>...</td>\n",
       "    </tr>\n",
       "    <tr>\n",
       "      <th>5431</th>\n",
       "      <td>25750275</td>\n",
       "      <td>2018-08-16 23:57:57</td>\n",
       "      <td>1</td>\n",
       "      <td>76.704</td>\n",
       "      <td>0.953</td>\n",
       "      <td>53.9</td>\n",
       "      <td>34372.601562</td>\n",
       "      <td>0</td>\n",
       "      <td>16</td>\n",
       "      <td>8</td>\n",
       "      <td>2018</td>\n",
       "      <td>23</td>\n",
       "      <td>3</td>\n",
       "      <td>1</td>\n",
       "    </tr>\n",
       "    <tr>\n",
       "      <th>5432</th>\n",
       "      <td>25750275</td>\n",
       "      <td>2018-08-16 23:58:26</td>\n",
       "      <td>1</td>\n",
       "      <td>75.696</td>\n",
       "      <td>0.953</td>\n",
       "      <td>53.8</td>\n",
       "      <td>34373.101562</td>\n",
       "      <td>0</td>\n",
       "      <td>16</td>\n",
       "      <td>8</td>\n",
       "      <td>2018</td>\n",
       "      <td>23</td>\n",
       "      <td>3</td>\n",
       "      <td>1</td>\n",
       "    </tr>\n",
       "    <tr>\n",
       "      <th>5433</th>\n",
       "      <td>25750275</td>\n",
       "      <td>2018-08-16 23:58:56</td>\n",
       "      <td>1</td>\n",
       "      <td>75.696</td>\n",
       "      <td>0.953</td>\n",
       "      <td>54.1</td>\n",
       "      <td>34373.500000</td>\n",
       "      <td>0</td>\n",
       "      <td>16</td>\n",
       "      <td>8</td>\n",
       "      <td>2018</td>\n",
       "      <td>23</td>\n",
       "      <td>3</td>\n",
       "      <td>1</td>\n",
       "    </tr>\n",
       "    <tr>\n",
       "      <th>5434</th>\n",
       "      <td>25750275</td>\n",
       "      <td>2018-08-16 23:59:27</td>\n",
       "      <td>1</td>\n",
       "      <td>75.696</td>\n",
       "      <td>0.953</td>\n",
       "      <td>54.0</td>\n",
       "      <td>34374.000000</td>\n",
       "      <td>0</td>\n",
       "      <td>16</td>\n",
       "      <td>8</td>\n",
       "      <td>2018</td>\n",
       "      <td>23</td>\n",
       "      <td>3</td>\n",
       "      <td>1</td>\n",
       "    </tr>\n",
       "    <tr>\n",
       "      <th>5435</th>\n",
       "      <td>25750275</td>\n",
       "      <td>2018-08-16 23:59:56</td>\n",
       "      <td>1</td>\n",
       "      <td>75.696</td>\n",
       "      <td>0.953</td>\n",
       "      <td>54.1</td>\n",
       "      <td>34374.398438</td>\n",
       "      <td>0</td>\n",
       "      <td>16</td>\n",
       "      <td>8</td>\n",
       "      <td>2018</td>\n",
       "      <td>23</td>\n",
       "      <td>3</td>\n",
       "      <td>1</td>\n",
       "    </tr>\n",
       "  </tbody>\n",
       "</table>\n",
       "<p>1771 rows × 14 columns</p>\n",
       "</div>"
      ],
      "text/plain": [
       "      Company Id            DateTime  ON/OFF  Level of Fuel     PF  KiloWatt  \\\n",
       "3665    25750275 2018-08-16 00:00:26       1         78.368  0.962      48.7   \n",
       "3666    25750275 2018-08-16 00:00:55       1         78.368  0.962      48.7   \n",
       "3667    25750275 2018-08-16 00:01:25       1         82.160  0.962      48.8   \n",
       "3668    25750275 2018-08-16 00:01:56       1         79.712  0.962      48.8   \n",
       "3669    25750275 2018-08-16 00:02:25       1         78.704  0.962      48.8   \n",
       "...          ...                 ...     ...            ...    ...       ...   \n",
       "5431    25750275 2018-08-16 23:57:57       1         76.704  0.953      53.9   \n",
       "5432    25750275 2018-08-16 23:58:26       1         75.696  0.953      53.8   \n",
       "5433    25750275 2018-08-16 23:58:56       1         75.696  0.953      54.1   \n",
       "5434    25750275 2018-08-16 23:59:27       1         75.696  0.953      54.0   \n",
       "5435    25750275 2018-08-16 23:59:56       1         75.696  0.953      54.1   \n",
       "\n",
       "               KWH  ErrorCode  day  month  year  hour  weekday  switch  \n",
       "3665  33756.000000          0   16      8  2018     0        3       1  \n",
       "3666  33756.398438          0   16      8  2018     0        3       1  \n",
       "3667  33756.800781          0   16      8  2018     0        3       1  \n",
       "3668  33757.199219          0   16      8  2018     0        3       1  \n",
       "3669  33757.699219          0   16      8  2018     0        3       1  \n",
       "...            ...        ...  ...    ...   ...   ...      ...     ...  \n",
       "5431  34372.601562          0   16      8  2018    23        3       1  \n",
       "5432  34373.101562          0   16      8  2018    23        3       1  \n",
       "5433  34373.500000          0   16      8  2018    23        3       1  \n",
       "5434  34374.000000          0   16      8  2018    23        3       1  \n",
       "5435  34374.398438          0   16      8  2018    23        3       1  \n",
       "\n",
       "[1771 rows x 14 columns]"
      ]
     },
     "execution_count": 28,
     "metadata": {},
     "output_type": "execute_result"
    }
   ],
   "source": [
    "day168"
   ]
  },
  {
   "cell_type": "code",
   "execution_count": 29,
   "metadata": {},
   "outputs": [
    {
     "data": {
      "text/plain": [
       "<matplotlib.axes._subplots.AxesSubplot at 0x2113f61c940>"
      ]
     },
     "execution_count": 29,
     "metadata": {},
     "output_type": "execute_result"
    },
    {
     "data": {
      "image/png": "[encoded data removed]",
      "text/plain": [
       "<Figure size 432x288 with 1 Axes>"
      ]
     },
     "metadata": {
      "needs_background": "light"
     },
     "output_type": "display_data"
    }
   ],
   "source": [
    "day168[['KWH']].plot()"
   ]
  },
  {
   "cell_type": "code",
   "execution_count": 30,
   "metadata": {},
   "outputs": [],
   "source": [
    "day168.index=day168.hour"
   ]
  },
  {
   "cell_type": "code",
   "execution_count": 31,
   "metadata": {},
   "outputs": [
    {
     "data": {
      "text/plain": [
       "<matplotlib.axes._subplots.AxesSubplot at 0x211408cec50>"
      ]
     },
     "execution_count": 31,
     "metadata": {},
     "output_type": "execute_result"
    },
    {
     "data": {
      "image/png": "[encoded data removed]",
      "text/plain": [
       "<Figure size 432x288 with 1 Axes>"
      ]
     },
     "metadata": {
      "needs_background": "light"
     },
     "output_type": "display_data"
    }
   ],
   "source": [
    "day168['KWH'].plot(linewidth=1)"
   ]
  },
  {
   "cell_type": "code",
   "execution_count": null,
   "metadata": {},
   "outputs": [],
   "source": []
  },
  {
   "cell_type": "code",
   "execution_count": null,
   "metadata": {},
   "outputs": [],
   "source": []
  },
  {
   "cell_type": "code",
   "execution_count": 32,
   "metadata": {},
   "outputs": [
    {
     "data": {
      "text/plain": [
       "<matplotlib.axes._subplots.AxesSubplot at 0x21140237080>"
      ]
     },
     "execution_count": 32,
     "metadata": {},
     "output_type": "execute_result"
    },
    {
     "data": {
      "image/png": "[encoded data removed]",
      "text/plain": [
       "<Figure size 432x288 with 1 Axes>"
      ]
     },
     "metadata": {
      "needs_background": "light"
     },
     "output_type": "display_data"
    }
   ],
   "source": [
    "df.groupby('weekday').max()['KWH'].plot()"
   ]
  },
  {
   "cell_type": "code",
   "execution_count": 33,
   "metadata": {},
   "outputs": [
    {
     "data": {
      "image/png": "[encoded data removed]",
      "text/plain": [
       "<Figure size 432x288 with 1 Axes>"
      ]
     },
     "metadata": {
      "needs_background": "light"
     },
     "output_type": "display_data"
    }
   ],
   "source": [
    "plt=df.groupby(['weekday','hour']).max()['KWH'].plot()"
   ]
  },
  {
   "cell_type": "code",
   "execution_count": null,
   "metadata": {},
   "outputs": [],
   "source": []
  },
  {
   "cell_type": "code",
   "execution_count": 56,
   "metadata": {},
   "outputs": [
    {
     "data": {
      "text/plain": [
       "168"
      ]
     },
     "execution_count": 56,
     "metadata": {},
     "output_type": "execute_result"
    }
   ],
   "source": [
    "df.groupby(['weekday','hour'],as_index=True).ngroups"
   ]
  },
  {
   "cell_type": "code",
   "execution_count": 35,
   "metadata": {},
   "outputs": [
    {
     "data": {
      "text/plain": [
       "Index(['Company Id', 'DateTime', 'ON/OFF', 'Level of Fuel', 'PF', 'KiloWatt',\n",
       "       'KWH', 'ErrorCode', 'day', 'month', 'year', 'hour', 'weekday',\n",
       "       'switch'],\n",
       "      dtype='object')"
      ]
     },
     "execution_count": 35,
     "metadata": {},
     "output_type": "execute_result"
    }
   ],
   "source": [
    "df.columns"
   ]
  },
  {
   "cell_type": "code",
   "execution_count": 36,
   "metadata": {},
   "outputs": [
    {
     "data": {
      "text/html": [
       "<div>\n",
       "<style scoped>\n",
       "    .dataframe tbody tr th:only-of-type {\n",
       "        vertical-align: middle;\n",
       "    }\n",
       "\n",
       "    .dataframe tbody tr th {\n",
       "        vertical-align: top;\n",
       "    }\n",
       "\n",
       "    .dataframe thead th {\n",
       "        text-align: right;\n",
       "    }\n",
       "</style>\n",
       "<table border=\"1\" class=\"dataframe\">\n",
       "  <thead>\n",
       "    <tr style=\"text-align: right;\">\n",
       "      <th></th>\n",
       "      <th>Company Id</th>\n",
       "      <th>DateTime</th>\n",
       "      <th>ON/OFF</th>\n",
       "      <th>Level of Fuel</th>\n",
       "      <th>PF</th>\n",
       "      <th>KiloWatt</th>\n",
       "      <th>KWH</th>\n",
       "      <th>ErrorCode</th>\n",
       "      <th>day</th>\n",
       "      <th>month</th>\n",
       "      <th>year</th>\n",
       "      <th>hour</th>\n",
       "      <th>weekday</th>\n",
       "      <th>switch</th>\n",
       "    </tr>\n",
       "  </thead>\n",
       "  <tbody>\n",
       "    <tr>\n",
       "      <th>3665</th>\n",
       "      <td>25750275</td>\n",
       "      <td>2018-08-16 00:00:26</td>\n",
       "      <td>1</td>\n",
       "      <td>78.368</td>\n",
       "      <td>0.962</td>\n",
       "      <td>48.7</td>\n",
       "      <td>33756.000000</td>\n",
       "      <td>0</td>\n",
       "      <td>16</td>\n",
       "      <td>8</td>\n",
       "      <td>2018</td>\n",
       "      <td>0</td>\n",
       "      <td>3</td>\n",
       "      <td>1</td>\n",
       "    </tr>\n",
       "    <tr>\n",
       "      <th>3666</th>\n",
       "      <td>25750275</td>\n",
       "      <td>2018-08-16 00:00:55</td>\n",
       "      <td>1</td>\n",
       "      <td>78.368</td>\n",
       "      <td>0.962</td>\n",
       "      <td>48.7</td>\n",
       "      <td>33756.398438</td>\n",
       "      <td>0</td>\n",
       "      <td>16</td>\n",
       "      <td>8</td>\n",
       "      <td>2018</td>\n",
       "      <td>0</td>\n",
       "      <td>3</td>\n",
       "      <td>1</td>\n",
       "    </tr>\n",
       "    <tr>\n",
       "      <th>3667</th>\n",
       "      <td>25750275</td>\n",
       "      <td>2018-08-16 00:01:25</td>\n",
       "      <td>1</td>\n",
       "      <td>82.160</td>\n",
       "      <td>0.962</td>\n",
       "      <td>48.8</td>\n",
       "      <td>33756.800781</td>\n",
       "      <td>0</td>\n",
       "      <td>16</td>\n",
       "      <td>8</td>\n",
       "      <td>2018</td>\n",
       "      <td>0</td>\n",
       "      <td>3</td>\n",
       "      <td>1</td>\n",
       "    </tr>\n",
       "    <tr>\n",
       "      <th>3668</th>\n",
       "      <td>25750275</td>\n",
       "      <td>2018-08-16 00:01:56</td>\n",
       "      <td>1</td>\n",
       "      <td>79.712</td>\n",
       "      <td>0.962</td>\n",
       "      <td>48.8</td>\n",
       "      <td>33757.199219</td>\n",
       "      <td>0</td>\n",
       "      <td>16</td>\n",
       "      <td>8</td>\n",
       "      <td>2018</td>\n",
       "      <td>0</td>\n",
       "      <td>3</td>\n",
       "      <td>1</td>\n",
       "    </tr>\n",
       "    <tr>\n",
       "      <th>3669</th>\n",
       "      <td>25750275</td>\n",
       "      <td>2018-08-16 00:02:25</td>\n",
       "      <td>1</td>\n",
       "      <td>78.704</td>\n",
       "      <td>0.962</td>\n",
       "      <td>48.8</td>\n",
       "      <td>33757.699219</td>\n",
       "      <td>0</td>\n",
       "      <td>16</td>\n",
       "      <td>8</td>\n",
       "      <td>2018</td>\n",
       "      <td>0</td>\n",
       "      <td>3</td>\n",
       "      <td>1</td>\n",
       "    </tr>\n",
       "    <tr>\n",
       "      <th>...</th>\n",
       "      <td>...</td>\n",
       "      <td>...</td>\n",
       "      <td>...</td>\n",
       "      <td>...</td>\n",
       "      <td>...</td>\n",
       "      <td>...</td>\n",
       "      <td>...</td>\n",
       "      <td>...</td>\n",
       "      <td>...</td>\n",
       "      <td>...</td>\n",
       "      <td>...</td>\n",
       "      <td>...</td>\n",
       "      <td>...</td>\n",
       "      <td>...</td>\n",
       "    </tr>\n",
       "    <tr>\n",
       "      <th>19868</th>\n",
       "      <td>25750275</td>\n",
       "      <td>2018-10-16 00:16:52</td>\n",
       "      <td>1</td>\n",
       "      <td>77.936</td>\n",
       "      <td>0.909</td>\n",
       "      <td>26.7</td>\n",
       "      <td>53681.500000</td>\n",
       "      <td>0</td>\n",
       "      <td>16</td>\n",
       "      <td>10</td>\n",
       "      <td>2018</td>\n",
       "      <td>0</td>\n",
       "      <td>1</td>\n",
       "      <td>1</td>\n",
       "    </tr>\n",
       "    <tr>\n",
       "      <th>19869</th>\n",
       "      <td>25750275</td>\n",
       "      <td>2018-10-16 00:17:23</td>\n",
       "      <td>1</td>\n",
       "      <td>80.720</td>\n",
       "      <td>0.909</td>\n",
       "      <td>26.7</td>\n",
       "      <td>53681.699219</td>\n",
       "      <td>0</td>\n",
       "      <td>16</td>\n",
       "      <td>10</td>\n",
       "      <td>2018</td>\n",
       "      <td>0</td>\n",
       "      <td>1</td>\n",
       "      <td>1</td>\n",
       "    </tr>\n",
       "    <tr>\n",
       "      <th>19870</th>\n",
       "      <td>25750275</td>\n",
       "      <td>2018-10-16 00:17:53</td>\n",
       "      <td>1</td>\n",
       "      <td>81.936</td>\n",
       "      <td>0.912</td>\n",
       "      <td>26.0</td>\n",
       "      <td>53681.898438</td>\n",
       "      <td>0</td>\n",
       "      <td>16</td>\n",
       "      <td>10</td>\n",
       "      <td>2018</td>\n",
       "      <td>0</td>\n",
       "      <td>1</td>\n",
       "      <td>1</td>\n",
       "    </tr>\n",
       "    <tr>\n",
       "      <th>19871</th>\n",
       "      <td>25750275</td>\n",
       "      <td>2018-10-16 00:18:23</td>\n",
       "      <td>1</td>\n",
       "      <td>79.824</td>\n",
       "      <td>0.928</td>\n",
       "      <td>10.6</td>\n",
       "      <td>53682.101562</td>\n",
       "      <td>0</td>\n",
       "      <td>16</td>\n",
       "      <td>10</td>\n",
       "      <td>2018</td>\n",
       "      <td>0</td>\n",
       "      <td>1</td>\n",
       "      <td>1</td>\n",
       "    </tr>\n",
       "    <tr>\n",
       "      <th>19872</th>\n",
       "      <td>25750275</td>\n",
       "      <td>2018-10-16 00:18:53</td>\n",
       "      <td>1</td>\n",
       "      <td>83.728</td>\n",
       "      <td>0.000</td>\n",
       "      <td>0.0</td>\n",
       "      <td>53682.101562</td>\n",
       "      <td>0</td>\n",
       "      <td>16</td>\n",
       "      <td>10</td>\n",
       "      <td>2018</td>\n",
       "      <td>0</td>\n",
       "      <td>1</td>\n",
       "      <td>1</td>\n",
       "    </tr>\n",
       "  </tbody>\n",
       "</table>\n",
       "<p>2533 rows × 14 columns</p>\n",
       "</div>"
      ],
      "text/plain": [
       "       Company Id            DateTime  ON/OFF  Level of Fuel     PF  KiloWatt  \\\n",
       "3665     25750275 2018-08-16 00:00:26       1         78.368  0.962      48.7   \n",
       "3666     25750275 2018-08-16 00:00:55       1         78.368  0.962      48.7   \n",
       "3667     25750275 2018-08-16 00:01:25       1         82.160  0.962      48.8   \n",
       "3668     25750275 2018-08-16 00:01:56       1         79.712  0.962      48.8   \n",
       "3669     25750275 2018-08-16 00:02:25       1         78.704  0.962      48.8   \n",
       "...           ...                 ...     ...            ...    ...       ...   \n",
       "19868    25750275 2018-10-16 00:16:52       1         77.936  0.909      26.7   \n",
       "19869    25750275 2018-10-16 00:17:23       1         80.720  0.909      26.7   \n",
       "19870    25750275 2018-10-16 00:17:53       1         81.936  0.912      26.0   \n",
       "19871    25750275 2018-10-16 00:18:23       1         79.824  0.928      10.6   \n",
       "19872    25750275 2018-10-16 00:18:53       1         83.728  0.000       0.0   \n",
       "\n",
       "                KWH  ErrorCode  day  month  year  hour  weekday  switch  \n",
       "3665   33756.000000          0   16      8  2018     0        3       1  \n",
       "3666   33756.398438          0   16      8  2018     0        3       1  \n",
       "3667   33756.800781          0   16      8  2018     0        3       1  \n",
       "3668   33757.199219          0   16      8  2018     0        3       1  \n",
       "3669   33757.699219          0   16      8  2018     0        3       1  \n",
       "...             ...        ...  ...    ...   ...   ...      ...     ...  \n",
       "19868  53681.500000          0   16     10  2018     0        1       1  \n",
       "19869  53681.699219          0   16     10  2018     0        1       1  \n",
       "19870  53681.898438          0   16     10  2018     0        1       1  \n",
       "19871  53682.101562          0   16     10  2018     0        1       1  \n",
       "19872  53682.101562          0   16     10  2018     0        1       1  \n",
       "\n",
       "[2533 rows x 14 columns]"
      ]
     },
     "execution_count": 36,
     "metadata": {},
     "output_type": "execute_result"
    }
   ],
   "source": [
    "df[((df.hour==0) | (df.hour==23)) & (df.switch==1)]"
   ]
  },
  {
   "cell_type": "code",
   "execution_count": 37,
   "metadata": {},
   "outputs": [
    {
     "data": {
      "text/plain": [
       "array([ 0,  1,  2,  3,  4,  5,  6,  7,  8,  9, 10, 11, 12, 13, 14, 15, 16,\n",
       "       17, 18, 19, 20, 21, 22, 23], dtype=int64)"
      ]
     },
     "execution_count": 37,
     "metadata": {},
     "output_type": "execute_result"
    }
   ],
   "source": [
    "df.hour.unique()"
   ]
  },
  {
   "cell_type": "markdown",
   "metadata": {},
   "source": [
    "## Calculating fuel consumption"
   ]
  },
  {
   "cell_type": "markdown",
   "metadata": {},
   "source": [
    "### Here we are calculating fuel consumption on hourly basis for one of the instance"
   ]
  },
  {
   "cell_type": "code",
   "execution_count": 38,
   "metadata": {},
   "outputs": [
    {
     "data": {
      "text/html": [
       "<div>\n",
       "<style scoped>\n",
       "    .dataframe tbody tr th:only-of-type {\n",
       "        vertical-align: middle;\n",
       "    }\n",
       "\n",
       "    .dataframe tbody tr th {\n",
       "        vertical-align: top;\n",
       "    }\n",
       "\n",
       "    .dataframe thead th {\n",
       "        text-align: right;\n",
       "    }\n",
       "</style>\n",
       "<table border=\"1\" class=\"dataframe\">\n",
       "  <thead>\n",
       "    <tr style=\"text-align: right;\">\n",
       "      <th></th>\n",
       "      <th>Company Id</th>\n",
       "      <th>DateTime</th>\n",
       "      <th>ON/OFF</th>\n",
       "      <th>Level of Fuel</th>\n",
       "      <th>PF</th>\n",
       "      <th>KiloWatt</th>\n",
       "      <th>KWH</th>\n",
       "      <th>ErrorCode</th>\n",
       "      <th>day</th>\n",
       "      <th>month</th>\n",
       "      <th>year</th>\n",
       "      <th>hour</th>\n",
       "      <th>weekday</th>\n",
       "      <th>switch</th>\n",
       "    </tr>\n",
       "  </thead>\n",
       "  <tbody>\n",
       "    <tr>\n",
       "      <th>3665</th>\n",
       "      <td>25750275</td>\n",
       "      <td>2018-08-16 00:00:26</td>\n",
       "      <td>1</td>\n",
       "      <td>78.368</td>\n",
       "      <td>0.962</td>\n",
       "      <td>48.7</td>\n",
       "      <td>33756.000000</td>\n",
       "      <td>0</td>\n",
       "      <td>16</td>\n",
       "      <td>8</td>\n",
       "      <td>2018</td>\n",
       "      <td>0</td>\n",
       "      <td>3</td>\n",
       "      <td>1</td>\n",
       "    </tr>\n",
       "    <tr>\n",
       "      <th>13480</th>\n",
       "      <td>25750275</td>\n",
       "      <td>2018-08-23 00:01:47</td>\n",
       "      <td>1</td>\n",
       "      <td>95.216</td>\n",
       "      <td>0.959</td>\n",
       "      <td>47.2</td>\n",
       "      <td>37254.398438</td>\n",
       "      <td>0</td>\n",
       "      <td>23</td>\n",
       "      <td>8</td>\n",
       "      <td>2018</td>\n",
       "      <td>0</td>\n",
       "      <td>3</td>\n",
       "      <td>1</td>\n",
       "    </tr>\n",
       "    <tr>\n",
       "      <th>13481</th>\n",
       "      <td>25750275</td>\n",
       "      <td>2018-08-23 00:02:17</td>\n",
       "      <td>1</td>\n",
       "      <td>95.664</td>\n",
       "      <td>0.959</td>\n",
       "      <td>47.2</td>\n",
       "      <td>37254.800781</td>\n",
       "      <td>0</td>\n",
       "      <td>23</td>\n",
       "      <td>8</td>\n",
       "      <td>2018</td>\n",
       "      <td>0</td>\n",
       "      <td>3</td>\n",
       "      <td>1</td>\n",
       "    </tr>\n",
       "    <tr>\n",
       "      <th>13482</th>\n",
       "      <td>25750275</td>\n",
       "      <td>2018-08-23 00:02:48</td>\n",
       "      <td>1</td>\n",
       "      <td>94.432</td>\n",
       "      <td>0.959</td>\n",
       "      <td>47.2</td>\n",
       "      <td>37255.199219</td>\n",
       "      <td>0</td>\n",
       "      <td>23</td>\n",
       "      <td>8</td>\n",
       "      <td>2018</td>\n",
       "      <td>0</td>\n",
       "      <td>3</td>\n",
       "      <td>1</td>\n",
       "    </tr>\n",
       "    <tr>\n",
       "      <th>13483</th>\n",
       "      <td>25750275</td>\n",
       "      <td>2018-08-23 00:03:17</td>\n",
       "      <td>1</td>\n",
       "      <td>95.440</td>\n",
       "      <td>0.959</td>\n",
       "      <td>47.2</td>\n",
       "      <td>37255.601562</td>\n",
       "      <td>0</td>\n",
       "      <td>23</td>\n",
       "      <td>8</td>\n",
       "      <td>2018</td>\n",
       "      <td>0</td>\n",
       "      <td>3</td>\n",
       "      <td>1</td>\n",
       "    </tr>\n",
       "    <tr>\n",
       "      <th>...</th>\n",
       "      <td>...</td>\n",
       "      <td>...</td>\n",
       "      <td>...</td>\n",
       "      <td>...</td>\n",
       "      <td>...</td>\n",
       "      <td>...</td>\n",
       "      <td>...</td>\n",
       "      <td>...</td>\n",
       "      <td>...</td>\n",
       "      <td>...</td>\n",
       "      <td>...</td>\n",
       "      <td>...</td>\n",
       "      <td>...</td>\n",
       "      <td>...</td>\n",
       "    </tr>\n",
       "    <tr>\n",
       "      <th>18869</th>\n",
       "      <td>25750275</td>\n",
       "      <td>2018-10-14 23:03:11</td>\n",
       "      <td>1</td>\n",
       "      <td>79.040</td>\n",
       "      <td>0.927</td>\n",
       "      <td>24.8</td>\n",
       "      <td>53500.000000</td>\n",
       "      <td>0</td>\n",
       "      <td>14</td>\n",
       "      <td>10</td>\n",
       "      <td>2018</td>\n",
       "      <td>23</td>\n",
       "      <td>6</td>\n",
       "      <td>1</td>\n",
       "    </tr>\n",
       "    <tr>\n",
       "      <th>18868</th>\n",
       "      <td>25750275</td>\n",
       "      <td>2018-10-14 23:02:40</td>\n",
       "      <td>1</td>\n",
       "      <td>79.040</td>\n",
       "      <td>0.927</td>\n",
       "      <td>24.9</td>\n",
       "      <td>53499.800781</td>\n",
       "      <td>0</td>\n",
       "      <td>14</td>\n",
       "      <td>10</td>\n",
       "      <td>2018</td>\n",
       "      <td>23</td>\n",
       "      <td>6</td>\n",
       "      <td>1</td>\n",
       "    </tr>\n",
       "    <tr>\n",
       "      <th>18867</th>\n",
       "      <td>25750275</td>\n",
       "      <td>2018-10-14 23:02:11</td>\n",
       "      <td>1</td>\n",
       "      <td>80.272</td>\n",
       "      <td>0.927</td>\n",
       "      <td>24.9</td>\n",
       "      <td>53499.601562</td>\n",
       "      <td>0</td>\n",
       "      <td>14</td>\n",
       "      <td>10</td>\n",
       "      <td>2018</td>\n",
       "      <td>23</td>\n",
       "      <td>6</td>\n",
       "      <td>1</td>\n",
       "    </tr>\n",
       "    <tr>\n",
       "      <th>18865</th>\n",
       "      <td>25750275</td>\n",
       "      <td>2018-10-14 23:01:10</td>\n",
       "      <td>1</td>\n",
       "      <td>79.040</td>\n",
       "      <td>0.927</td>\n",
       "      <td>25.0</td>\n",
       "      <td>53499.101562</td>\n",
       "      <td>0</td>\n",
       "      <td>14</td>\n",
       "      <td>10</td>\n",
       "      <td>2018</td>\n",
       "      <td>23</td>\n",
       "      <td>6</td>\n",
       "      <td>1</td>\n",
       "    </tr>\n",
       "    <tr>\n",
       "      <th>13475</th>\n",
       "      <td>25750275</td>\n",
       "      <td>2018-08-22 23:59:18</td>\n",
       "      <td>1</td>\n",
       "      <td>95.328</td>\n",
       "      <td>0.959</td>\n",
       "      <td>47.4</td>\n",
       "      <td>37252.398438</td>\n",
       "      <td>0</td>\n",
       "      <td>22</td>\n",
       "      <td>8</td>\n",
       "      <td>2018</td>\n",
       "      <td>23</td>\n",
       "      <td>2</td>\n",
       "      <td>1</td>\n",
       "    </tr>\n",
       "  </tbody>\n",
       "</table>\n",
       "<p>16306 rows × 14 columns</p>\n",
       "</div>"
      ],
      "text/plain": [
       "       Company Id            DateTime  ON/OFF  Level of Fuel     PF  KiloWatt  \\\n",
       "3665     25750275 2018-08-16 00:00:26       1         78.368  0.962      48.7   \n",
       "13480    25750275 2018-08-23 00:01:47       1         95.216  0.959      47.2   \n",
       "13481    25750275 2018-08-23 00:02:17       1         95.664  0.959      47.2   \n",
       "13482    25750275 2018-08-23 00:02:48       1         94.432  0.959      47.2   \n",
       "13483    25750275 2018-08-23 00:03:17       1         95.440  0.959      47.2   \n",
       "...           ...                 ...     ...            ...    ...       ...   \n",
       "18869    25750275 2018-10-14 23:03:11       1         79.040  0.927      24.8   \n",
       "18868    25750275 2018-10-14 23:02:40       1         79.040  0.927      24.9   \n",
       "18867    25750275 2018-10-14 23:02:11       1         80.272  0.927      24.9   \n",
       "18865    25750275 2018-10-14 23:01:10       1         79.040  0.927      25.0   \n",
       "13475    25750275 2018-08-22 23:59:18       1         95.328  0.959      47.4   \n",
       "\n",
       "                KWH  ErrorCode  day  month  year  hour  weekday  switch  \n",
       "3665   33756.000000          0   16      8  2018     0        3       1  \n",
       "13480  37254.398438          0   23      8  2018     0        3       1  \n",
       "13481  37254.800781          0   23      8  2018     0        3       1  \n",
       "13482  37255.199219          0   23      8  2018     0        3       1  \n",
       "13483  37255.601562          0   23      8  2018     0        3       1  \n",
       "...             ...        ...  ...    ...   ...   ...      ...     ...  \n",
       "18869  53500.000000          0   14     10  2018    23        6       1  \n",
       "18868  53499.800781          0   14     10  2018    23        6       1  \n",
       "18867  53499.601562          0   14     10  2018    23        6       1  \n",
       "18865  53499.101562          0   14     10  2018    23        6       1  \n",
       "13475  37252.398438          0   22      8  2018    23        2       1  \n",
       "\n",
       "[16306 rows x 14 columns]"
      ]
     },
     "execution_count": 38,
     "metadata": {},
     "output_type": "execute_result"
    }
   ],
   "source": [
    "df[(df['Company Id']==25927159) &(df.day==20) & (df.month==8) & df.ErrorCode==0].sort_values('hour')"
   ]
  },
  {
   "cell_type": "code",
   "execution_count": null,
   "metadata": {},
   "outputs": [],
   "source": []
  },
  {
   "cell_type": "code",
   "execution_count": 39,
   "metadata": {},
   "outputs": [
    {
     "data": {
      "text/plain": [
       "78.368"
      ]
     },
     "execution_count": 39,
     "metadata": {},
     "output_type": "execute_result"
    }
   ],
   "source": [
    "inital_value=day168['Level of Fuel'].values[0]\n",
    "inital_value"
   ]
  },
  {
   "cell_type": "code",
   "execution_count": 40,
   "metadata": {},
   "outputs": [
    {
     "data": {
      "text/plain": [
       "hour\n",
       "0     0.000\n",
       "0     0.000\n",
       "0     0.000\n",
       "0    -2.448\n",
       "0    -1.008\n",
       "      ...  \n",
       "23    0.000\n",
       "23   -1.008\n",
       "23    0.000\n",
       "23    0.000\n",
       "23    0.000\n",
       "Name: Level of Fuel, Length: 1771, dtype: float64"
      ]
     },
     "execution_count": 40,
     "metadata": {},
     "output_type": "execute_result"
    }
   ],
   "source": [
    "(day168['Level of Fuel'].diff().fillna(0)).apply(lambda x:min(x,0))"
   ]
  },
  {
   "cell_type": "code",
   "execution_count": 41,
   "metadata": {},
   "outputs": [],
   "source": [
    "data=pd.read_excel(\"data_set.xlsx\")"
   ]
  },
  {
   "cell_type": "code",
   "execution_count": 42,
   "metadata": {},
   "outputs": [],
   "source": [
    "df=data[data.ErrorCode==0].copy()"
   ]
  },
  {
   "cell_type": "code",
   "execution_count": 43,
   "metadata": {},
   "outputs": [],
   "source": [
    "df['day'] = df.DateTime.dt.day\n",
    "df['month'] = df.DateTime.dt.month\n",
    "df['year'] = df.DateTime.dt.year\n",
    "df['hour']=df.DateTime.dt.hour\n",
    "df['weekday']=df.DateTime.dt.weekday"
   ]
  },
  {
   "cell_type": "code",
   "execution_count": 44,
   "metadata": {},
   "outputs": [
    {
     "data": {
      "text/plain": [
       "array([25502921, 25750275, 25921010, 25921355, 25927159], dtype=int64)"
      ]
     },
     "execution_count": 44,
     "metadata": {},
     "output_type": "execute_result"
    }
   ],
   "source": [
    "df['Company Id'].unique()"
   ]
  },
  {
   "cell_type": "code",
   "execution_count": 45,
   "metadata": {},
   "outputs": [],
   "source": [
    "df_grp=df.groupby(['Company Id','day','month','weekday'],as_index=True)"
   ]
  },
  {
   "cell_type": "code",
   "execution_count": 46,
   "metadata": {},
   "outputs": [
    {
     "data": {
      "text/plain": [
       "Company Id  day  month  weekday\n",
       "25502921    1    10     0          50.2250\n",
       "            2    10     1          56.3325\n",
       "            3    10     2          51.2050\n",
       "            4    10     3          91.1750\n",
       "            5    9      2          66.3250\n",
       "                                    ...   \n",
       "25927159    29   8      2           0.0000\n",
       "                 9      5           0.0000\n",
       "            30   8      3           0.0000\n",
       "                 9      6           0.0000\n",
       "            31   8      4           0.0000\n",
       "Name: Level of Fuel, Length: 185, dtype: float64"
      ]
     },
     "execution_count": 46,
     "metadata": {},
     "output_type": "execute_result"
    }
   ],
   "source": [
    "all_initial_values=df_grp['Level of Fuel'].apply(lambda x: x.values[0])\n",
    "all_initial_values"
   ]
  },
  {
   "cell_type": "code",
   "execution_count": 47,
   "metadata": {},
   "outputs": [
    {
     "data": {
      "text/plain": [
       "Company Id  day  month  weekday\n",
       "25502921    1    10     0             0.000000\n",
       "            2    10     1             0.000000\n",
       "            3    10     2             0.000000\n",
       "            4    10     3             0.000000\n",
       "            5    9      2             0.000000\n",
       "                                      ...     \n",
       "25927159    29   8      2          1133.593750\n",
       "                 9      5             0.000000\n",
       "            30   8      3          1078.203125\n",
       "                 9      6             0.000000\n",
       "            31   8      4           867.296875\n",
       "Name: KWH, Length: 185, dtype: float64"
      ]
     },
     "execution_count": 47,
     "metadata": {},
     "output_type": "execute_result"
    }
   ],
   "source": [
    "energy_diffs=df_grp['KWH'].apply(lambda x :(sum(x.diff().fillna(0))))\n",
    "energy_diffs"
   ]
  },
  {
   "cell_type": "code",
   "execution_count": null,
   "metadata": {},
   "outputs": [],
   "source": []
  },
  {
   "cell_type": "markdown",
   "metadata": {},
   "source": [
    "### Fuel consumption for every data sample"
   ]
  },
  {
   "cell_type": "code",
   "execution_count": 73,
   "metadata": {},
   "outputs": [
    {
     "data": {
      "text/plain": [
       "0         0.000\n",
       "1        19.443\n",
       "2         1.942\n",
       "3         1.103\n",
       "4         1.119\n",
       "          ...  \n",
       "72785     0.000\n",
       "72786     0.000\n",
       "72788     0.000\n",
       "72789     0.000\n",
       "72790     0.000\n",
       "Name: Level of Fuel, Length: 63505, dtype: float64"
      ]
     },
     "execution_count": 73,
     "metadata": {},
     "output_type": "execute_result"
    }
   ],
   "source": [
    "fuel_consumption_per_sample=df_grp['Level of Fuel'].apply(lambda x :abs(x.diff().fillna(0).apply(lambda x:min(x,0))))\n",
    "fuel_consumption_per_sample"
   ]
  },
  {
   "cell_type": "markdown",
   "metadata": {},
   "source": [
    "## Fuel consumption on hourly basis"
   ]
  },
  {
   "cell_type": "code",
   "execution_count": 74,
   "metadata": {},
   "outputs": [],
   "source": [
    "fuel_consumption_hourly=df.groupby(['Company Id','day','month','weekday','hour'],as_index=True)['Level of Fuel'].apply(lambda x :abs(sum(x.diff().fillna(0).apply(lambda x:min(x,0)))))"
   ]
  },
  {
   "cell_type": "code",
   "execution_count": 75,
   "metadata": {},
   "outputs": [
    {
     "data": {
      "text/plain": [
       "Company Id  day  month  weekday  hour\n",
       "25502921    1    10     0        9       3.3250\n",
       "                                 10      1.1025\n",
       "                                 11      2.2225\n",
       "                                 12      1.1025\n",
       "                                 13      0.0000\n",
       "                                          ...  \n",
       "25927159    31   8      4        19      0.0000\n",
       "                                 20      0.0000\n",
       "                                 21      0.0000\n",
       "                                 22      0.0000\n",
       "                                 23      0.0000\n",
       "Name: Level of Fuel, Length: 3998, dtype: float64"
      ]
     },
     "execution_count": 75,
     "metadata": {},
     "output_type": "execute_result"
    }
   ],
   "source": [
    "fuel_consumption_hourly"
   ]
  },
  {
   "cell_type": "markdown",
   "metadata": {},
   "source": [
    "## Fuel consumption on daily basis"
   ]
  },
  {
   "cell_type": "code",
   "execution_count": 79,
   "metadata": {},
   "outputs": [],
   "source": [
    "fuel_consumption_daily=df_grp['Level of Fuel'].apply(lambda x :abs(sum(x.diff().fillna(0).apply(lambda x:min(x,0)))))\n",
    "# fuel_consumption[fuel_consumption==max(fuel_consumption)]\n"
   ]
  },
  {
   "cell_type": "code",
   "execution_count": 81,
   "metadata": {},
   "outputs": [
    {
     "data": {
      "text/plain": [
       "Company Id  day  month  weekday\n",
       "25502921    1    10     0            49.8050\n",
       "            2    10     1            14.3150\n",
       "            3    10     2            64.6625\n",
       "            4    10     3            24.5530\n",
       "            5    9      2             6.9300\n",
       "                                     ...    \n",
       "25927159    29   8      2             0.0000\n",
       "                 9      5             0.0000\n",
       "            30   8      3             0.0000\n",
       "                 9      6          3562.8750\n",
       "            31   8      4             0.0000\n",
       "Name: Level of Fuel, Length: 185, dtype: float64"
      ]
     },
     "execution_count": 81,
     "metadata": {},
     "output_type": "execute_result"
    }
   ],
   "source": [
    "fuel_consumption_daily"
   ]
  },
  {
   "cell_type": "code",
   "execution_count": null,
   "metadata": {},
   "outputs": [],
   "source": []
  },
  {
   "cell_type": "code",
   "execution_count": 82,
   "metadata": {},
   "outputs": [
    {
     "data": {
      "text/plain": [
       "<matplotlib.axes._subplots.AxesSubplot at 0x211406ead68>"
      ]
     },
     "execution_count": 82,
     "metadata": {},
     "output_type": "execute_result"
    },
    {
     "data": {
      "image/png": "[encoded data removed]",
      "text/plain": [
       "<Figure size 432x288 with 1 Axes>"
      ]
     },
     "metadata": {
      "needs_background": "light"
     },
     "output_type": "display_data"
    }
   ],
   "source": [
    "fuel_consumption_daily.plot()"
   ]
  },
  {
   "cell_type": "code",
   "execution_count": null,
   "metadata": {},
   "outputs": [],
   "source": []
  },
  {
   "cell_type": "code",
   "execution_count": null,
   "metadata": {},
   "outputs": [],
   "source": []
  },
  {
   "cell_type": "code",
   "execution_count": null,
   "metadata": {},
   "outputs": [],
   "source": []
  }
 ],
 "metadata": {
  "kernelspec": {
   "display_name": "Python 3",
   "language": "python",
   "name": "python3"
  },
  "language_info": {
   "codemirror_mode": {
    "name": "ipython",
    "version": 3
   },
   "file_extension": ".py",
   "mimetype": "text/x-python",
   "name": "python",
   "nbconvert_exporter": "python",
   "pygments_lexer": "ipython3",
   "version": "3.7.1"
  }
 },
 "nbformat": 4,
 "nbformat_minor": 4
}
